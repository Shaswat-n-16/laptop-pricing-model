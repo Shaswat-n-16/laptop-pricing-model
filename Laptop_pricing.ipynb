{
 "cells": [
  {
   "cell_type": "markdown",
   "id": "24c0fc2a",
   "metadata": {},
   "source": [
    "<h1>Importing Dataset - Laptop Pricing</h1>"
   ]
  },
  {
   "cell_type": "code",
   "execution_count": null,
   "id": "933dbc60",
   "metadata": {},
   "outputs": [],
   "source": [
    "import numpy as np\n",
    "import pandas as pd\n",
    "import matplotlib.pyplot as plt\n",
    "import seaborn as sns\n",
    "from sklearn.preprocessing import StandardScaler, PolynomialFeatures\n",
    "from sklearn.pipeline import Pipeline\n",
    "from sklearn.metrics import mean_squared_error, r2_score\n",
    "from sklearn.linear_model import LinearRegression"
   ]
  },
  {
   "cell_type": "code",
   "execution_count": null,
   "id": "5f9f94d5",
   "metadata": {},
   "outputs": [],
   "source": [
    "file_path = \"https://cf-courses-data.s3.us.cloud-object-storage.appdomain.cloud/IBMDeveloperSkillsNetwork-DA0101EN-Coursera/laptop_pricing_dataset_base.csv\"\n",
    "df=pd.read_csv(file_path)\n",
    "df.to_csv(\"laptop.csv\")"
   ]
  },
  {
   "cell_type": "code",
   "execution_count": null,
   "id": "f2900988",
   "metadata": {},
   "outputs": [],
   "source": [
    "df.head(10)"
   ]
  },
  {
   "cell_type": "markdown",
   "id": "ed977245",
   "metadata": {},
   "source": [
    "<h3>Assigning header to dataframe</h3>"
   ]
  },
  {
   "cell_type": "code",
   "execution_count": null,
   "id": "681370a9",
   "metadata": {},
   "outputs": [],
   "source": [
    "headers=[\"Manufacturer\", \"Category\", \"Screen\", \"GPU\", \"OS\", \"CPU_core\", \"Screen_Size_cm\", \"CPU_frequency\", \"RAM_GB\", \"Storage_GB_SSD\", \"Weight_kg\" ,\"Price\"]\n",
    "df.columns=headers"
   ]
  },
  {
   "cell_type": "code",
   "execution_count": null,
   "id": "5dfe997b",
   "metadata": {},
   "outputs": [],
   "source": [
    "df.head()"
   ]
  },
  {
   "cell_type": "code",
   "execution_count": null,
   "id": "17788161",
   "metadata": {},
   "outputs": [],
   "source": [
    "#checking data type of each column\n",
    "df.dtypes"
   ]
  },
  {
   "cell_type": "code",
   "execution_count": null,
   "id": "fb146449",
   "metadata": {},
   "outputs": [],
   "source": [
    "#statistical description of the dataset, including that of 'object' data types\n",
    "df.describe(include=[\"object\"])"
   ]
  },
  {
   "cell_type": "markdown",
   "id": "ec3a6cca",
   "metadata": {},
   "source": [
    "<h1>Handling missing data</h1>"
   ]
  },
  {
   "cell_type": "code",
   "execution_count": null,
   "id": "4da27ab8",
   "metadata": {},
   "outputs": [],
   "source": [
    "missing_data = df.isnull()\n",
    "print(missing_data.head())\n",
    "for column in missing_data.columns.values.tolist():\n",
    "    print(column)\n",
    "    print (missing_data[column].value_counts())\n",
    "    print(\"\") "
   ]
  },
  {
   "cell_type": "markdown",
   "id": "029654af",
   "metadata": {},
   "source": [
    "<h3>Replacing \"?\" with np.nan</h3>"
   ]
  },
  {
   "cell_type": "code",
   "execution_count": null,
   "id": "53de9489",
   "metadata": {},
   "outputs": [],
   "source": [
    "df.replace(\"?\",np.nan,inplace=True)"
   ]
  },
  {
   "cell_type": "code",
   "execution_count": null,
   "id": "03f4ce54",
   "metadata": {},
   "outputs": [],
   "source": [
    "df.head()"
   ]
  },
  {
   "cell_type": "code",
   "execution_count": null,
   "id": "7af08135",
   "metadata": {},
   "outputs": [],
   "source": [
    "#replacing the missing values of weight with the average value of the attribute.\n",
    "avg_weight=df['Weight_kg'].astype('float').mean(axis=0)\n",
    "df[\"Weight_kg\"].replace(np.nan, avg_weight, inplace=True)"
   ]
  },
  {
   "cell_type": "code",
   "execution_count": null,
   "id": "9b2045c2",
   "metadata": {},
   "outputs": [],
   "source": [
    "# replacing the missing values of Screen Size with the most frequent value of the attribute.\n",
    "common_screen_size = df['Screen_Size_cm'].value_counts().idxmax()\n",
    "df[\"Screen_Size_cm\"].replace(np.nan, common_screen_size, inplace=True)"
   ]
  },
  {
   "cell_type": "code",
   "execution_count": null,
   "id": "aa3a3e11",
   "metadata": {},
   "outputs": [],
   "source": [
    "df.head()"
   ]
  },
  {
   "cell_type": "markdown",
   "id": "c31ddb66",
   "metadata": {},
   "source": [
    "Both \"Weight_kg\" and \"Screen_Size_cm\" are seen to have the data type \"Object\", while both of them should be having a data type of \"float\". "
   ]
  },
  {
   "cell_type": "code",
   "execution_count": null,
   "id": "a593ef54",
   "metadata": {},
   "outputs": [],
   "source": [
    "df[[\"Weight_kg\",\"Screen_Size_cm\"]] = df[[\"Weight_kg\",\"Screen_Size_cm\"]].astype(\"float\")"
   ]
  },
  {
   "cell_type": "markdown",
   "id": "e3a48f0f",
   "metadata": {},
   "source": [
    "<h3>Data Standardization</h3>"
   ]
  },
  {
   "cell_type": "code",
   "execution_count": null,
   "id": "a5ac2608",
   "metadata": {},
   "outputs": [],
   "source": [
    "# Data standardization: convert weight from kg to pounds\n",
    "df[\"Weight_kg\"] = df[\"Weight_kg\"]*2.205\n",
    "df.rename(columns={'Weight_kg':'Weight_pounds'}, inplace=True)\n",
    "\n",
    "# Data standardization: convert screen size from cm to inch\n",
    "df[\"Screen_Size_cm\"] = df[\"Screen_Size_cm\"]/2.54\n",
    "df.rename(columns={'Screen_Size_cm':'Screen_Size_inch'}, inplace=True)"
   ]
  },
  {
   "cell_type": "markdown",
   "id": "161701c3",
   "metadata": {},
   "source": [
    "<h3>Data Normalization</h3>"
   ]
  },
  {
   "cell_type": "code",
   "execution_count": null,
   "id": "ac891431",
   "metadata": {},
   "outputs": [],
   "source": [
    "df['CPU_frequency'] = df['CPU_frequency']/df['CPU_frequency'].max()"
   ]
  },
  {
   "cell_type": "code",
   "execution_count": null,
   "id": "6be14507",
   "metadata": {},
   "outputs": [],
   "source": [
    "df.head()"
   ]
  },
  {
   "cell_type": "markdown",
   "id": "0d29f5ec",
   "metadata": {},
   "source": [
    "<h3>Binning</h3>\n",
    "<p>Creating 3 bins for the attribute \"Price\" named \"Low\", \"Medium\" and \"High\". The new attribute will be named \"Price-binned\".</p>"
   ]
  },
  {
   "cell_type": "code",
   "execution_count": null,
   "id": "501261ea",
   "metadata": {},
   "outputs": [],
   "source": [
    "bins = np.linspace(min(df[\"Price\"]), max(df[\"Price\"]), 4)\n",
    "group_names = ['Low', 'Medium', 'High']\n",
    "df['Price-binned'] = pd.cut(df['Price'], bins, labels=group_names, include_lowest=True )"
   ]
  },
  {
   "cell_type": "code",
   "execution_count": null,
   "id": "d901ebd8",
   "metadata": {},
   "outputs": [],
   "source": [
    "plt.bar(group_names, df[\"Price-binned\"].value_counts())\n",
    "plt.xlabel(\"Price\")\n",
    "plt.ylabel(\"count\")\n",
    "plt.title(\"Price bins\")"
   ]
  },
  {
   "cell_type": "markdown",
   "id": "c583e46f",
   "metadata": {},
   "source": [
    "<p>Converting the \"Screen\" attribute of the dataset into 2 indicator variables, \"Screen-IPS_panel\" and \"Screen-Full_HD\" and drop the \"Screen\" attribute from the dataset.</p>"
   ]
  },
  {
   "cell_type": "code",
   "execution_count": null,
   "id": "dcf77c88",
   "metadata": {},
   "outputs": [],
   "source": [
    "dummy_variable_1 = pd.get_dummies(df[\"Screen\"])\n",
    "dummy_variable_1.rename(columns={'IPS Panel':'Screen-IPS_panel', 'Full HD':'Screen-Full_HD'}, inplace=True)\n",
    "df = pd.concat([df, dummy_variable_1], axis=1)\n",
    "\n",
    "# drop original column \"Screen\" from \"df\"\n",
    "df.drop(\"Screen\", axis = 1, inplace=True)"
   ]
  },
  {
   "cell_type": "code",
   "execution_count": null,
   "id": "22ee6594",
   "metadata": {},
   "outputs": [],
   "source": [
    "df.head(10)"
   ]
  },
  {
   "cell_type": "markdown",
   "id": "b1717dfd",
   "metadata": {},
   "source": [
    "<h1>Exploring Data Analysis</h1>"
   ]
  },
  {
   "cell_type": "markdown",
   "id": "3fd76167",
   "metadata": {},
   "source": [
    "<h4>Generating regression plots for each of the parameters \"CPU_frequency\", \"Screen_Size_inch\" and \"Weight_pounds\" against \"Price\" and calculating the value of correlation of each feature with \"Price\".</h4>"
   ]
  },
  {
   "cell_type": "code",
   "execution_count": null,
   "id": "95d73a22",
   "metadata": {},
   "outputs": [],
   "source": [
    "# CPU_frequency plot\n",
    "sns.regplot(x=\"CPU_frequency\", y=\"Price\", data=df)\n",
    "plt.ylim(0,)\n",
    "print(f\"Correlation of Price and CPU_frequency\")\n",
    "df[[\"CPU_frequency\",\"Price\"]].corr()"
   ]
  },
  {
   "cell_type": "code",
   "execution_count": null,
   "id": "fc2b16bf",
   "metadata": {},
   "outputs": [],
   "source": [
    "# CPU_frequency plot\n",
    "sns.regplot(x=\"Screen_Size_inch\", y=\"Price\", data=df)\n",
    "plt.ylim(0,)\n",
    "print(f\"Correlation of Price and Screen_Size_inch\")\n",
    "df[[\"Screen_Size_inch\",\"Price\"]].corr()"
   ]
  },
  {
   "cell_type": "code",
   "execution_count": null,
   "id": "78be1eb1",
   "metadata": {},
   "outputs": [],
   "source": [
    "# CPU_frequency plot\n",
    "sns.regplot(x=\"Weight_pounds\", y=\"Price\", data=df)\n",
    "plt.ylim(0,)\n",
    "print(f\"Correlation of Price and Weight_pounds \")\n",
    "df[[\"Weight_pounds\",\"Price\"]].corr()"
   ]
  },
  {
   "cell_type": "markdown",
   "id": "abab33aa",
   "metadata": {},
   "source": [
    "<p>Observation: \"CPU_frequency\" has a 36% positive correlation with the price of the laptops. The other two parameters have weak correlation with price.</p>"
   ]
  },
  {
   "cell_type": "markdown",
   "id": "8ef311f1",
   "metadata": {},
   "source": [
    "<h4>Generating Box plots for the different feature that hold categorical values. These features would be \"Category\", \"GPU\", \"OS\", \"CPU_core\", \"RAM_GB\", \"Storage_GB_SSD\"</h4>"
   ]
  },
  {
   "cell_type": "code",
   "execution_count": null,
   "id": "f297b7d2",
   "metadata": {},
   "outputs": [],
   "source": [
    "sns.boxplot(x=\"Category\", y=\"Price\", data=df)"
   ]
  },
  {
   "cell_type": "code",
   "execution_count": null,
   "id": "2b8fca5b",
   "metadata": {},
   "outputs": [],
   "source": [
    "sns.boxplot(x=\"GPU\", y=\"Price\", data=df)"
   ]
  },
  {
   "cell_type": "code",
   "execution_count": null,
   "id": "aed95bbf",
   "metadata": {},
   "outputs": [],
   "source": [
    "sns.boxplot(x=\"OS\", y=\"Price\", data=df)"
   ]
  },
  {
   "cell_type": "code",
   "execution_count": null,
   "id": "5ace0b39",
   "metadata": {},
   "outputs": [],
   "source": [
    "sns.boxplot(x=\"CPU_core\", y=\"Price\", data=df)"
   ]
  },
  {
   "cell_type": "code",
   "execution_count": null,
   "id": "e78ed9ea",
   "metadata": {},
   "outputs": [],
   "source": [
    "sns.boxplot(x=\"RAM_GB\", y=\"Price\", data=df)"
   ]
  },
  {
   "cell_type": "code",
   "execution_count": null,
   "id": "9842fd08",
   "metadata": {},
   "outputs": [],
   "source": [
    "sns.boxplot(x=\"Storage_GB_SSD\", y=\"Price\", data=df)"
   ]
  },
  {
   "cell_type": "markdown",
   "id": "edf50171",
   "metadata": {},
   "source": [
    "<h4> Evaluate the Pearson Coefficient and the p-values for each parameter tested above. This will help you determine the parameters most likely to have a strong effect on the price of the laptops.</h4>"
   ]
  },
  {
   "cell_type": "code",
   "execution_count": null,
   "id": "d7ec6584",
   "metadata": {},
   "outputs": [],
   "source": [
    "from scipy import stats\n",
    "for param in ['RAM_GB','CPU_frequency','Storage_GB_SSD','Screen_Size_inch','Weight_pounds','CPU_core','OS','GPU','Category']:\n",
    "    pearson_coef, p_value = stats.pearsonr(df[param], df['Price'])\n",
    "#     print(param)\n",
    "    print(\"Pearson Correlation Coefficient for \",param,\" is\", pearson_coef, \" with a P-value of P =\", p_value)"
   ]
  },
  {
   "cell_type": "markdown",
   "id": "449209fb",
   "metadata": {},
   "source": [
    "<p>Based on the Pearson correlation coefficients and their associated p-values, the parameters most likely to have a strong effect on the price of laptops are RAM_GB, CPU_frequency, CPU_core, GPU, and Category </p>"
   ]
  },
  {
   "cell_type": "markdown",
   "id": "aa93e981",
   "metadata": {},
   "source": [
    "<h1>Model Development</h1>"
   ]
  },
  {
   "cell_type": "markdown",
   "id": "82fb3ba2",
   "metadata": {},
   "source": [
    "<h4>Single Linear Regression model</h4>"
   ]
  },
  {
   "cell_type": "code",
   "execution_count": null,
   "id": "b0327719",
   "metadata": {},
   "outputs": [],
   "source": [
    "\n",
    "lm = LinearRegression()\n",
    "\n",
    "X = df[['CPU_frequency']]\n",
    "Y = df['Price']\n",
    "\n",
    "lm.fit(X,Y)\n",
    "\n",
    "Yhat=lm.predict(X)"
   ]
  },
  {
   "cell_type": "markdown",
   "id": "440ad08d",
   "metadata": {},
   "source": [
    "<p>Generating the Distribution plot for the predicted values and that of the actual values. </p>"
   ]
  },
  {
   "cell_type": "code",
   "execution_count": null,
   "id": "7b232995",
   "metadata": {},
   "outputs": [],
   "source": [
    "ax1 = sns.distplot(df['Price'], hist=False, color=\"r\", label=\"Actual Value\")\n",
    "\n",
    "# Create a distribution plot for predicted values\n",
    "sns.distplot(Yhat, hist=False, color=\"b\", label=\"Fitted Values\" , ax=ax1)\n",
    "\n",
    "plt.title('Actual vs Fitted Values for Price')\n",
    "plt.xlabel('Price')\n",
    "plt.ylabel('Proportion of laptops')\n",
    "plt.legend(['Actual Value', 'Predicted Value'])\n",
    "plt.show()"
   ]
  },
  {
   "cell_type": "markdown",
   "id": "2738359c",
   "metadata": {},
   "source": [
    "<p>Evaluating the Mean Squared Error and R^2 score values for the model.</p>"
   ]
  },
  {
   "cell_type": "code",
   "execution_count": null,
   "id": "7e7ed39a",
   "metadata": {},
   "outputs": [],
   "source": [
    "\n",
    "mse_slr = mean_squared_error(df['Price'], Yhat)\n",
    "r2_score_slr = lm.score(X, Y)\n",
    "print('The R-square for Linear Regression is: ', r2_score_slr)\n",
    "print('The mean square error of price and predicted value is: ', mse_slr)"
   ]
  },
  {
   "cell_type": "markdown",
   "id": "84983753",
   "metadata": {},
   "source": [
    "<h3>Multiple Linear Regression</h3>"
   ]
  },
  {
   "cell_type": "code",
   "execution_count": null,
   "id": "91cea6b2",
   "metadata": {},
   "outputs": [],
   "source": [
    "lm1 = LinearRegression()\n",
    "Z = df[['CPU_frequency','RAM_GB','Storage_GB_SSD','CPU_core','OS','GPU','Category']]\n",
    "lm1.fit(Z,Y)\n",
    "Y_predict_multifit = lm1.predict(Z)"
   ]
  },
  {
   "cell_type": "markdown",
   "id": "8414ad6d",
   "metadata": {},
   "source": [
    "<p>Plot the Distribution graph of the predicted values as well as the Actual values</p>"
   ]
  },
  {
   "cell_type": "code",
   "execution_count": null,
   "id": "b34b1d00",
   "metadata": {},
   "outputs": [],
   "source": [
    "ax1 = sns.distplot(df['Price'], hist=False, color=\"r\", label=\"Actual Value\")\n",
    "sns.distplot(Y_hat, hist=False, color=\"b\", label=\"Fitted Values\" , ax=ax1)\n",
    "\n",
    "plt.title('Actual vs Fitted Values for Price')\n",
    "plt.xlabel('Price')\n",
    "plt.ylabel('Proportion of laptops')"
   ]
  },
  {
   "cell_type": "markdown",
   "id": "7a79b2b5",
   "metadata": {},
   "source": [
    "<p>Evaluating the Mean Squared Error and R^2 score values for the model.</p>"
   ]
  },
  {
   "cell_type": "code",
   "execution_count": null,
   "id": "7e694f55",
   "metadata": {},
   "outputs": [],
   "source": [
    "mse_slr = mean_squared_error(df['Price'], Y_predict_multifit)\n",
    "r2_score_slr = lm1.score(Z, Y)\n",
    "print('The R-square for Linear Regression is: ', r2_score_slr)\n",
    "print('The mean square error of price and predicted value is: ', mse_slr)"
   ]
  },
  {
   "cell_type": "markdown",
   "id": "9675c95f",
   "metadata": {},
   "source": [
    "<h3>Polynomial Regression</h3>\n"
   ]
  },
  {
   "cell_type": "code",
   "execution_count": null,
   "id": "b3312d94",
   "metadata": {},
   "outputs": [],
   "source": [
    "X = X.to_numpy().flatten()\n",
    "f1 = np.polyfit(X, Y, 1)\n",
    "p1 = np.poly1d(f1)\n",
    "\n",
    "f3 = np.polyfit(X, Y, 3)\n",
    "p3 = np.poly1d(f3)\n",
    "\n",
    "f5 = np.polyfit(X, Y, 5)\n",
    "p5 = np.poly1d(f5)"
   ]
  },
  {
   "cell_type": "markdown",
   "id": "3d91a1df",
   "metadata": {},
   "source": [
    "<p>Plot the regression output against the actual data points to note how the data fits in each case. </p>"
   ]
  },
  {
   "cell_type": "code",
   "execution_count": null,
   "id": "b14a0a41",
   "metadata": {},
   "outputs": [],
   "source": [
    "def PlotPolly(model, independent_variable, dependent_variabble, Name):\n",
    "    x_new = np.linspace(independent_variable.min(),independent_variable.max(),100)\n",
    "    y_new = model(x_new)\n",
    "\n",
    "    plt.plot(independent_variable, dependent_variabble, '.', x_new, y_new, '-')\n",
    "    plt.title(f'Polynomial Fit for Price ~ {Name}')\n",
    "    ax = plt.gca()\n",
    "    ax.set_facecolor((0.898, 0.898, 0.898))\n",
    "    fig = plt.gcf()\n",
    "    plt.xlabel(Name)\n",
    "    plt.ylabel('Price of laptops')"
   ]
  },
  {
   "cell_type": "markdown",
   "id": "48a207c3",
   "metadata": {},
   "source": [
    "<p>Calling this function for the 3 models created and get the required graphs.</p>"
   ]
  },
  {
   "cell_type": "code",
   "execution_count": null,
   "id": "bac59a89",
   "metadata": {},
   "outputs": [],
   "source": [
    "PlotPolly(p1, X, Y, 'CPU_frequency')"
   ]
  },
  {
   "cell_type": "code",
   "execution_count": null,
   "id": "eafa8008",
   "metadata": {},
   "outputs": [],
   "source": [
    "PlotPolly(p3, X, Y, 'CPU_frequency')"
   ]
  },
  {
   "cell_type": "markdown",
   "id": "12366a9a",
   "metadata": {
    "scrolled": true
   },
   "source": [
    "PlotPolly(p5, X, Y, 'CPU_frequency')"
   ]
  },
  {
   "cell_type": "markdown",
   "id": "18fa7ea8",
   "metadata": {},
   "source": [
    "<p>Calculate the R^2 and MSE values for these fits. </p>"
   ]
  },
  {
   "cell_type": "code",
   "execution_count": null,
   "id": "d9428444",
   "metadata": {},
   "outputs": [],
   "source": [
    "r_squared_1 = r2_score(Y, p1(X))\n",
    "print('The R-square value for 1st degree polynomial is: ', r_squared_1)\n",
    "print('The MSE value for 1st degree polynomial is: ', mean_squared_error(Y,p1(X)))\n",
    "r_squared_3 = r2_score(Y, p3(X))\n",
    "print('The R-square value for 3rd degree polynomial is: ', r_squared_3)\n",
    "print('The MSE value for 3rd degree polynomial is: ', mean_squared_error(Y,p3(X)))\n",
    "r_squared_5 = r2_score(Y, p5(X))\n",
    "print('The R-square value for 5th degree polynomial is: ', r_squared_5)\n",
    "print('The MSE value for 5th degree polynomial is: ', mean_squared_error(Y,p5(X)))"
   ]
  },
  {
   "cell_type": "markdown",
   "id": "5fac4b88",
   "metadata": {},
   "source": [
    "<p>Conclusion :Based on the R-squared values and the MSE values, the Multiple Linear Regression model appears to be the best fit among the models. It has the highest R-squared value, indicating that it explains more variance in the data, and the lowest MSE, indicating better predictive accuracy compared to the other models.</p>"
   ]
  }
 ],
 "metadata": {
  "kernelspec": {
   "display_name": "Python 3 (ipykernel)",
   "language": "python",
   "name": "python3"
  },
  "language_info": {
   "codemirror_mode": {
    "name": "ipython",
    "version": 3
   },
   "file_extension": ".py",
   "mimetype": "text/x-python",
   "name": "python",
   "nbconvert_exporter": "python",
   "pygments_lexer": "ipython3",
   "version": "3.11.5"
  }
 },
 "nbformat": 4,
 "nbformat_minor": 5
}
